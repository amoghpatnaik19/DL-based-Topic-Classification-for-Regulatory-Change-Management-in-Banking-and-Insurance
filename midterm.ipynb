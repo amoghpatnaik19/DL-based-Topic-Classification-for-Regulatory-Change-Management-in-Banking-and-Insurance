{
 "cells": [
  {
   "cell_type": "code",
   "execution_count": 1,
   "metadata": {
    "_cell_guid": "b1076dfc-b9ad-4769-8c92-a6c4dae69d19",
    "_uuid": "8f2839f25d086af736a60e9eeb907d3b93b6e0e5",
    "execution": {
     "iopub.execute_input": "2022-11-09T01:39:38.532170Z",
     "iopub.status.busy": "2022-11-09T01:39:38.531808Z",
     "iopub.status.idle": "2022-11-09T01:39:40.202775Z",
     "shell.execute_reply": "2022-11-09T01:39:40.201787Z",
     "shell.execute_reply.started": "2022-11-09T01:39:38.532097Z"
    }
   },
   "outputs": [],
   "source": [
    "# This Python 3 environment comes with many helpful analytics libraries installed\n",
    "# It is defined by the kaggle/python Docker image: https://github.com/kaggle/docker-python\n",
    "# For example, here's several helpful packages to load\n",
    "\n",
    "import numpy as np # linear algebra\n",
    "import pandas as pd # data processing, CSV file I/O (e.g. pd.read_csv)\n",
    "\n",
    "# Input data files are available in the read-only \"../input/\" directory\n",
    "# For example, running this (by clicking run or pressing Shift+Enter) will list all files under the input directory\n",
    "\n",
    "import os\n",
    "train=pd.read_csv('training.csv')\n",
    "# You can write up to 20GB to the current directory (/kaggle/working/) that gets preserved as output when you create a version using \"Save & Run All\" \n",
    "# You can also write temporary files to /kaggle/temp/, but they won't be saved outside of the current session"
   ]
  },
  {
   "cell_type": "markdown",
   "metadata": {},
   "source": [
    "Displaying the 5 rows of the dataset"
   ]
  },
  {
   "cell_type": "code",
   "execution_count": 2,
   "metadata": {
    "execution": {
     "iopub.execute_input": "2022-11-09T01:39:44.229717Z",
     "iopub.status.busy": "2022-11-09T01:39:44.228985Z",
     "iopub.status.idle": "2022-11-09T01:39:44.251907Z",
     "shell.execute_reply": "2022-11-09T01:39:44.250892Z",
     "shell.execute_reply.started": "2022-11-09T01:39:44.229671Z"
    }
   },
   "outputs": [
    {
     "data": {
      "text/html": [
       "<div>\n",
       "<style scoped>\n",
       "    .dataframe tbody tr th:only-of-type {\n",
       "        vertical-align: middle;\n",
       "    }\n",
       "\n",
       "    .dataframe tbody tr th {\n",
       "        vertical-align: top;\n",
       "    }\n",
       "\n",
       "    .dataframe thead th {\n",
       "        text-align: right;\n",
       "    }\n",
       "</style>\n",
       "<table border=\"1\" class=\"dataframe\">\n",
       "  <thead>\n",
       "    <tr style=\"text-align: right;\">\n",
       "      <th></th>\n",
       "      <th>id</th>\n",
       "      <th>name</th>\n",
       "      <th>document_text</th>\n",
       "      <th>cat_name</th>\n",
       "    </tr>\n",
       "  </thead>\n",
       "  <tbody>\n",
       "    <tr>\n",
       "      <th>0</th>\n",
       "      <td>22474</td>\n",
       "      <td>Information Regarding the Merger of Navios Mar...</td>\n",
       "      <td>At a special meeting held on March 24, 2021 sh...</td>\n",
       "      <td>Corporate Communications</td>\n",
       "    </tr>\n",
       "    <tr>\n",
       "      <th>1</th>\n",
       "      <td>27460</td>\n",
       "      <td>Announcement on Approving the Change of Member...</td>\n",
       "      <td>On April 2, 2021, the China Financial Futures ...</td>\n",
       "      <td>Securities Settlement</td>\n",
       "    </tr>\n",
       "    <tr>\n",
       "      <th>2</th>\n",
       "      <td>6926</td>\n",
       "      <td>SFC Suspends Shiu Yau Wah for Five Months</td>\n",
       "      <td>The Securities and Futures Commission (SFC) ha...</td>\n",
       "      <td>Antitrust</td>\n",
       "    </tr>\n",
       "    <tr>\n",
       "      <th>3</th>\n",
       "      <td>6982</td>\n",
       "      <td>Renminbi RMB Haircut - February 4, 2020</td>\n",
       "      <td>Pursuant to Section 2.6.2 of the Clearing Hous...</td>\n",
       "      <td>Securities Settlement</td>\n",
       "    </tr>\n",
       "    <tr>\n",
       "      <th>4</th>\n",
       "      <td>5022</td>\n",
       "      <td>Anti-Money Laundering, Countering Financing of...</td>\n",
       "      <td>Money laundering and terrorism financing (ML/T...</td>\n",
       "      <td>Financial Crime</td>\n",
       "    </tr>\n",
       "  </tbody>\n",
       "</table>\n",
       "</div>"
      ],
      "text/plain": [
       "      id                                               name  \\\n",
       "0  22474  Information Regarding the Merger of Navios Mar...   \n",
       "1  27460  Announcement on Approving the Change of Member...   \n",
       "2   6926          SFC Suspends Shiu Yau Wah for Five Months   \n",
       "3   6982            Renminbi RMB Haircut - February 4, 2020   \n",
       "4   5022  Anti-Money Laundering, Countering Financing of...   \n",
       "\n",
       "                                       document_text                  cat_name  \n",
       "0  At a special meeting held on March 24, 2021 sh...  Corporate Communications  \n",
       "1  On April 2, 2021, the China Financial Futures ...     Securities Settlement  \n",
       "2  The Securities and Futures Commission (SFC) ha...                 Antitrust  \n",
       "3  Pursuant to Section 2.6.2 of the Clearing Hous...     Securities Settlement  \n",
       "4  Money laundering and terrorism financing (ML/T...           Financial Crime  "
      ]
     },
     "execution_count": 2,
     "metadata": {},
     "output_type": "execute_result"
    }
   ],
   "source": [
    "train.head()"
   ]
  },
  {
   "cell_type": "markdown",
   "metadata": {},
   "source": [
    "Displaying unique size of train attributes"
   ]
  },
  {
   "cell_type": "code",
   "execution_count": 3,
   "metadata": {
    "execution": {
     "iopub.execute_input": "2022-11-09T01:39:47.506699Z",
     "iopub.status.busy": "2022-11-09T01:39:47.506380Z",
     "iopub.status.idle": "2022-11-09T01:39:49.672203Z",
     "shell.execute_reply": "2022-11-09T01:39:49.671399Z",
     "shell.execute_reply.started": "2022-11-09T01:39:47.506676Z"
    }
   },
   "outputs": [
    {
     "data": {
      "text/plain": [
       "9151"
      ]
     },
     "execution_count": 3,
     "metadata": {},
     "output_type": "execute_result"
    }
   ],
   "source": [
    "len(np.unique(list(train['document_text'])))"
   ]
  },
  {
   "cell_type": "code",
   "execution_count": 4,
   "metadata": {
    "execution": {
     "iopub.execute_input": "2022-11-09T01:39:52.313058Z",
     "iopub.status.busy": "2022-11-09T01:39:52.312749Z",
     "iopub.status.idle": "2022-11-09T01:39:52.328591Z",
     "shell.execute_reply": "2022-11-09T01:39:52.327672Z",
     "shell.execute_reply.started": "2022-11-09T01:39:52.313033Z"
    }
   },
   "outputs": [
    {
     "data": {
      "text/plain": [
       "9859"
      ]
     },
     "execution_count": 4,
     "metadata": {},
     "output_type": "execute_result"
    }
   ],
   "source": [
    "len(np.unique(list(train['id'])))"
   ]
  },
  {
   "cell_type": "code",
   "execution_count": 5,
   "metadata": {
    "execution": {
     "iopub.execute_input": "2022-11-09T01:39:54.159025Z",
     "iopub.status.busy": "2022-11-09T01:39:54.158707Z",
     "iopub.status.idle": "2022-11-09T01:39:54.406016Z",
     "shell.execute_reply": "2022-11-09T01:39:54.405028Z",
     "shell.execute_reply.started": "2022-11-09T01:39:54.158999Z"
    }
   },
   "outputs": [
    {
     "data": {
      "text/plain": [
       "8594"
      ]
     },
     "execution_count": 5,
     "metadata": {},
     "output_type": "execute_result"
    }
   ],
   "source": [
    "len(np.unique(list(train['name'])))"
   ]
  },
  {
   "cell_type": "code",
   "execution_count": 6,
   "metadata": {
    "execution": {
     "iopub.execute_input": "2022-11-09T01:39:55.351750Z",
     "iopub.status.busy": "2022-11-09T01:39:55.351193Z",
     "iopub.status.idle": "2022-11-09T01:39:55.393478Z",
     "shell.execute_reply": "2022-11-09T01:39:55.392256Z",
     "shell.execute_reply.started": "2022-11-09T01:39:55.351722Z"
    }
   },
   "outputs": [
    {
     "data": {
      "text/plain": [
       "50"
      ]
     },
     "execution_count": 6,
     "metadata": {},
     "output_type": "execute_result"
    }
   ],
   "source": [
    "len(np.unique(list((train['cat_name']))))"
   ]
  },
  {
   "cell_type": "code",
   "execution_count": 7,
   "metadata": {
    "execution": {
     "iopub.execute_input": "2022-11-09T01:39:56.190959Z",
     "iopub.status.busy": "2022-11-09T01:39:56.189951Z",
     "iopub.status.idle": "2022-11-09T01:39:56.309514Z",
     "shell.execute_reply": "2022-11-09T01:39:56.308593Z",
     "shell.execute_reply.started": "2022-11-09T01:39:56.190924Z"
    }
   },
   "outputs": [],
   "source": [
    "newresult = train.groupby(['id','name'])['document_text'].agg(list).to_dict()\n",
    "# for k,v in newresult:\n",
    "#     print(k,v)\n"
   ]
  },
  {
   "cell_type": "markdown",
   "metadata": {},
   "source": [
    "Cat_name groupped into one array"
   ]
  },
  {
   "cell_type": "code",
   "execution_count": 8,
   "metadata": {
    "execution": {
     "iopub.execute_input": "2022-11-09T01:39:57.703625Z",
     "iopub.status.busy": "2022-11-09T01:39:57.703281Z",
     "iopub.status.idle": "2022-11-09T01:39:58.044916Z",
     "shell.execute_reply": "2022-11-09T01:39:58.043955Z",
     "shell.execute_reply.started": "2022-11-09T01:39:57.703598Z"
    }
   },
   "outputs": [
    {
     "data": {
      "text/html": [
       "<div>\n",
       "<style scoped>\n",
       "    .dataframe tbody tr th:only-of-type {\n",
       "        vertical-align: middle;\n",
       "    }\n",
       "\n",
       "    .dataframe tbody tr th {\n",
       "        vertical-align: top;\n",
       "    }\n",
       "\n",
       "    .dataframe thead th {\n",
       "        text-align: right;\n",
       "    }\n",
       "</style>\n",
       "<table border=\"1\" class=\"dataframe\">\n",
       "  <thead>\n",
       "    <tr style=\"text-align: right;\">\n",
       "      <th></th>\n",
       "      <th>id</th>\n",
       "      <th>name</th>\n",
       "      <th>document_text</th>\n",
       "      <th>cat_name</th>\n",
       "    </tr>\n",
       "  </thead>\n",
       "  <tbody>\n",
       "    <tr>\n",
       "      <th>0</th>\n",
       "      <td>22474</td>\n",
       "      <td>Information Regarding the Merger of Navios Mar...</td>\n",
       "      <td>At a special meeting held on March 24, 2021 sh...</td>\n",
       "      <td>[Corporate Communications]</td>\n",
       "    </tr>\n",
       "    <tr>\n",
       "      <th>1</th>\n",
       "      <td>27460</td>\n",
       "      <td>Announcement on Approving the Change of Member...</td>\n",
       "      <td>On April 2, 2021, the China Financial Futures ...</td>\n",
       "      <td>[Trade Settlement, Securities Settlement]</td>\n",
       "    </tr>\n",
       "    <tr>\n",
       "      <th>2</th>\n",
       "      <td>6926</td>\n",
       "      <td>SFC Suspends Shiu Yau Wah for Five Months</td>\n",
       "      <td>The Securities and Futures Commission (SFC) ha...</td>\n",
       "      <td>[Compliance Management, Licensure and certific...</td>\n",
       "    </tr>\n",
       "    <tr>\n",
       "      <th>3</th>\n",
       "      <td>6982</td>\n",
       "      <td>Renminbi RMB Haircut - February 4, 2020</td>\n",
       "      <td>Pursuant to Section 2.6.2 of the Clearing Hous...</td>\n",
       "      <td>[Payments and Settlements, Securities Settleme...</td>\n",
       "    </tr>\n",
       "    <tr>\n",
       "      <th>4</th>\n",
       "      <td>5022</td>\n",
       "      <td>Anti-Money Laundering, Countering Financing of...</td>\n",
       "      <td>Money laundering and terrorism financing (ML/T...</td>\n",
       "      <td>[Regulatory Reporting, Money-Laundering and Te...</td>\n",
       "    </tr>\n",
       "  </tbody>\n",
       "</table>\n",
       "</div>"
      ],
      "text/plain": [
       "      id                                               name  \\\n",
       "0  22474  Information Regarding the Merger of Navios Mar...   \n",
       "1  27460  Announcement on Approving the Change of Member...   \n",
       "2   6926          SFC Suspends Shiu Yau Wah for Five Months   \n",
       "3   6982            Renminbi RMB Haircut - February 4, 2020   \n",
       "4   5022  Anti-Money Laundering, Countering Financing of...   \n",
       "\n",
       "                                       document_text  \\\n",
       "0  At a special meeting held on March 24, 2021 sh...   \n",
       "1  On April 2, 2021, the China Financial Futures ...   \n",
       "2  The Securities and Futures Commission (SFC) ha...   \n",
       "3  Pursuant to Section 2.6.2 of the Clearing Hous...   \n",
       "4  Money laundering and terrorism financing (ML/T...   \n",
       "\n",
       "                                            cat_name  \n",
       "0                         [Corporate Communications]  \n",
       "1          [Trade Settlement, Securities Settlement]  \n",
       "2  [Compliance Management, Licensure and certific...  \n",
       "3  [Payments and Settlements, Securities Settleme...  \n",
       "4  [Regulatory Reporting, Money-Laundering and Te...  "
      ]
     },
     "execution_count": 8,
     "metadata": {},
     "output_type": "execute_result"
    }
   ],
   "source": [
    "train2=train.groupby('id', sort=False).agg(lambda x: list(set(x))).reset_index()\n",
    "train2.head()\n",
    "\n",
    "train2 = train2.explode('name')\n",
    "\n",
    "\n",
    "train2 = train2.explode('document_text')\n",
    "\n",
    "train2.head()"
   ]
  },
  {
   "cell_type": "code",
   "execution_count": 9,
   "metadata": {
    "execution": {
     "iopub.execute_input": "2022-11-09T01:39:59.980198Z",
     "iopub.status.busy": "2022-11-09T01:39:59.979855Z",
     "iopub.status.idle": "2022-11-09T01:39:59.983975Z",
     "shell.execute_reply": "2022-11-09T01:39:59.983144Z",
     "shell.execute_reply.started": "2022-11-09T01:39:59.980171Z"
    }
   },
   "outputs": [],
   "source": [
    "# for k,v in newresult.items():\n",
    "#     print(k,v)"
   ]
  },
  {
   "cell_type": "code",
   "execution_count": 10,
   "metadata": {
    "execution": {
     "iopub.execute_input": "2022-11-09T01:40:00.931631Z",
     "iopub.status.busy": "2022-11-09T01:40:00.931306Z",
     "iopub.status.idle": "2022-11-09T01:40:08.861404Z",
     "shell.execute_reply": "2022-11-09T01:40:08.860527Z",
     "shell.execute_reply.started": "2022-11-09T01:40:00.931607Z"
    }
   },
   "outputs": [
    {
     "name": "stdout",
     "output_type": "stream",
     "text": [
      "type of dtm: <class 'scipy.sparse.csr.csr_matrix'>\n",
      "size of tfidf matrix: (47102, 33459)\n"
     ]
    }
   ],
   "source": [
    "from sklearn.feature_extraction.text import TfidfVectorizer\n",
    "\n",
    "# initialize the TfidfVectorizer without any parameters\n",
    "tfidf_vect = TfidfVectorizer() \n",
    "\n",
    "# with stop words removed\n",
    "tfidf_vect = TfidfVectorizer(stop_words=\"english\") \n",
    "\n",
    "# generate tfidf matrix\n",
    "dtm= tfidf_vect.fit_transform(train[\"document_text\"])\n",
    "\n",
    "print(\"type of dtm:\", type(dtm))\n",
    "print(\"size of tfidf matrix:\", dtm.shape)"
   ]
  },
  {
   "cell_type": "code",
   "execution_count": 11,
   "metadata": {
    "execution": {
     "iopub.execute_input": "2022-11-09T01:40:08.863153Z",
     "iopub.status.busy": "2022-11-09T01:40:08.862905Z",
     "iopub.status.idle": "2022-11-09T01:40:08.868546Z",
     "shell.execute_reply": "2022-11-09T01:40:08.867517Z",
     "shell.execute_reply.started": "2022-11-09T01:40:08.863130Z"
    }
   },
   "outputs": [
    {
     "name": "stdout",
     "output_type": "stream",
     "text": [
      "total number of words: 33459\n",
      "type of vocabulary: <class 'dict'>\n"
     ]
    }
   ],
   "source": [
    "# 1. Check vocabulary\n",
    "\n",
    "# Vocabulary is a dictionary mapping a word to an index\n",
    "\n",
    "# the number of words in the vocabulary\n",
    "print(\"total number of words:\", len(tfidf_vect.vocabulary_))\n",
    "\n",
    "print(\"type of vocabulary:\", \\\n",
    "      type(tfidf_vect.vocabulary_))"
   ]
  },
  {
   "cell_type": "markdown",
   "metadata": {},
   "source": [
    "Displaying some of the text and most freq words"
   ]
  },
  {
   "cell_type": "code",
   "execution_count": 12,
   "metadata": {
    "execution": {
     "iopub.execute_input": "2022-11-09T01:40:08.869727Z",
     "iopub.status.busy": "2022-11-09T01:40:08.869496Z",
     "iopub.status.idle": "2022-11-09T01:40:08.893924Z",
     "shell.execute_reply": "2022-11-09T01:40:08.892390Z",
     "shell.execute_reply.started": "2022-11-09T01:40:08.869705Z"
    }
   },
   "outputs": [
    {
     "name": "stdout",
     "output_type": "stream",
     "text": [
      "\n",
      "Original text: \n",
      "At a special meeting held on March 24, 2021 shareholders of Navios Maritime Containers L.P. (NMCI) approved the proposed merger with Navios Maritime Partners L.P. The merger is anticipated to become effective on March 31, 2021. The details are as follows: Company Issue: Navios Maritime Containers L.P. Common Units CUSIP#: Y62151108 Symbol: NMCI Anticipated Last Trading Date: March 31, 2021 Anticipated Marketplace Effective Date for Suspension: April 1, 2021 Merger Consideration: 0.39 of a common unit representing limited partner interests in Navios Partners for each share held.\n",
      "\n",
      "tfidf weights: \n",
      "\n",
      "Vectorized document shape:  (33459,) \n",
      "\n",
      "top words:\n",
      "navios:\t0.593\n",
      "maritime:\t0.389\n",
      "nmci:\t0.296\n",
      "containers:\t0.271\n",
      "anticipated:\t0.240\n",
      "merger:\t0.200\n",
      "y62151108:\t0.165\n",
      "partners:\t0.160\n",
      "2021:\t0.155\n",
      "march:\t0.140\n",
      "held:\t0.110\n",
      "common:\t0.108\n",
      "31:\t0.095\n",
      "partner:\t0.093\n",
      "39:\t0.083\n",
      "representing:\t0.081\n",
      "date:\t0.081\n",
      "effective:\t0.080\n",
      "units:\t0.072\n",
      "cusip:\t0.072\n"
     ]
    }
   ],
   "source": [
    "# 3.4 check words with top tf-idf wights in a document, \n",
    "# e.g. 1st document\n",
    "\n",
    "# get mapping from word index to word\n",
    "# i.e. reversal mapping of tfidf_vect.vocabulary_\n",
    "voc_lookup={tfidf_vect.vocabulary_[word]:word \\\n",
    "            for word in tfidf_vect.vocabulary_}\n",
    "\n",
    "print(\"\\nOriginal text: \\n\"+train[\"document_text\"][0])\n",
    "\n",
    "print(\"\\ntfidf weights: \\n\")\n",
    "\n",
    "# first, covert the sparse matrix row to a dense array\n",
    "doc0=dtm[0].toarray()[0]\n",
    "print(\"Vectorized document shape: \", doc0.shape, \"\\n\")\n",
    "\n",
    "# get index of top 20 words\n",
    "print(\"top words:\")\n",
    "top_words=(doc0.argsort())[::-1][0:20]\n",
    "for i in top_words:\n",
    "    print(\"{0}:\\t{1:.3f}\".format(voc_lookup[i], doc0[i]))\n",
    "#[(voc_lookup[i], '%.3f'%doc0[i]) for i in top_words]\n"
   ]
  },
  {
   "cell_type": "markdown",
   "metadata": {},
   "source": [
    "Using Multilabel binarizer to convert array of names into array of class variables"
   ]
  },
  {
   "cell_type": "code",
   "execution_count": 13,
   "metadata": {
    "execution": {
     "iopub.execute_input": "2022-11-09T01:40:08.896472Z",
     "iopub.status.busy": "2022-11-09T01:40:08.896080Z",
     "iopub.status.idle": "2022-11-09T01:40:08.924294Z",
     "shell.execute_reply": "2022-11-09T01:40:08.923620Z",
     "shell.execute_reply.started": "2022-11-09T01:40:08.896440Z"
    }
   },
   "outputs": [
    {
     "name": "stdout",
     "output_type": "stream",
     "text": [
      "[[0 0 0 0 0 0 0 0 1 0 0 0 0 0 0 0 0 0 0 0 0 0 0 0 0 0 0 0 0 0 0 0 0 0 0 0\n",
      "  0 0 0 0 0 0 0 0 0 0 0 0 0 0]\n",
      " [0 0 0 0 0 0 0 0 0 0 0 0 0 0 0 0 0 0 0 0 0 0 0 0 0 0 0 0 0 0 0 0 0 0 0 0\n",
      "  0 0 0 0 0 0 0 0 0 0 0 1 0 1]\n",
      " [0 1 0 0 0 1 0 0 0 0 0 0 1 0 0 0 0 0 0 0 0 0 0 0 1 1 0 0 0 0 0 0 0 0 0 0\n",
      "  0 0 0 0 0 0 0 0 0 0 0 0 0 0]\n",
      " [0 0 0 0 0 0 0 0 0 0 0 0 0 0 0 0 0 0 0 0 0 0 0 0 0 0 0 0 0 0 0 0 0 0 1 0\n",
      "  0 0 0 0 0 0 0 1 0 0 0 1 0 1]\n",
      " [0 0 0 0 0 0 0 0 0 0 0 0 1 0 0 0 1 0 0 0 0 0 0 0 0 0 0 0 0 0 0 0 1 0 0 0\n",
      "  0 0 1 1 0 0 1 0 0 0 0 0 0 0]]\n",
      "(9859, 50)\n",
      "['Accounting and Finance' 'Antitrust' 'Banking' 'Broker Dealer'\n",
      " 'Commodities Trading' 'Compliance Management' 'Consumer protection'\n",
      " 'Contract Provisions' 'Corporate Communications' 'Corporate Governance'\n",
      " 'Definitions' 'Delivery' 'Examinations' 'Exemptions' 'Fees and Charges'\n",
      " 'Financial Accounting' 'Financial Crime' 'Forms' 'Fraud' 'IT Risk'\n",
      " 'Information Filing' 'Insurance' 'Legal' 'Legal Proceedings' 'Licensing'\n",
      " 'Licensure and certification' 'Liquidity Risk' 'Listing' 'Market Abuse'\n",
      " 'Market Risk' 'Monetary and Economic Policy' 'Money Services'\n",
      " 'Money-Laundering and Terrorist Financing' 'Natural Disasters'\n",
      " 'Payments and Settlements' 'Powers and Duties' 'Quotation'\n",
      " 'Records Maintenance' 'Regulatory Actions' 'Regulatory Reporting'\n",
      " 'Required Disclosures' 'Research' 'Risk Management' 'Securities Clearing'\n",
      " 'Securities Issuing' 'Securities Management' 'Securities Sales'\n",
      " 'Securities Settlement' 'Trade Pricing' 'Trade Settlement']\n"
     ]
    },
    {
     "data": {
      "text/plain": [
       "array([ 935,  880, 1078,  670,  682, 1391,  969, 1153,  518,  958,  570,\n",
       "        821, 1742, 1190, 1301,  535, 1178,  508,  906,  435, 1387,  737,\n",
       "        907, 1343,  999,  982,  534, 1124,  722, 1633,  802,  869,  505,\n",
       "       1079, 1099,  797,  611,  630, 1621, 1042,  627,  554,  982, 1141,\n",
       "       1107,  664, 1737,  852,  872,  723])"
      ]
     },
     "execution_count": 13,
     "metadata": {},
     "output_type": "execute_result"
    }
   ],
   "source": [
    "from sklearn.preprocessing import MultiLabelBinarizer\n",
    "import numpy as np\n",
    "\n",
    "mlb = MultiLabelBinarizer()\n",
    "# labels=list(np.unique(train2['cat_name']))\n",
    "# labels=[list(labels)]\n",
    "# labels\n",
    "# mlb.fit(labels)\n",
    "Y=mlb.fit_transform(train2['cat_name'])\n",
    "# check size of indicator matrix\n",
    "# print some rows \n",
    "print(Y[0:5])\n",
    "print(Y.shape)\n",
    "# check classes\n",
    "print(mlb.classes_)\n",
    "\n",
    "# check # of samples in each class\n",
    "np.sum(Y, axis=0)"
   ]
  },
  {
   "cell_type": "code",
   "execution_count": 28,
   "metadata": {
    "execution": {
     "iopub.execute_input": "2022-11-09T01:44:33.287263Z",
     "iopub.status.busy": "2022-11-09T01:44:33.286899Z",
     "iopub.status.idle": "2022-11-09T01:44:38.788699Z",
     "shell.execute_reply": "2022-11-09T01:44:38.787700Z",
     "shell.execute_reply.started": "2022-11-09T01:44:33.287220Z"
    }
   },
   "outputs": [
    {
     "data": {
      "text/plain": [
       "Pipeline(steps=[('tfidf', TfidfVectorizer(min_df=5, stop_words='english')),\n",
       "                ('clf', OneVsRestClassifier(estimator=LinearSVC(C=3.0)))])"
      ]
     },
     "execution_count": 28,
     "metadata": {},
     "output_type": "execute_result"
    }
   ],
   "source": [
    "import numpy as np\n",
    "from sklearn.pipeline import Pipeline\n",
    "from sklearn.feature_extraction.text import CountVectorizer\n",
    "from sklearn.svm import LinearSVC\n",
    "from sklearn.feature_extraction.text import TfidfTransformer\n",
    "from sklearn.model_selection import train_test_split\n",
    "from sklearn.multiclass import OneVsRestClassifier\n",
    "from sklearn.metrics import classification_report\n",
    "\n",
    "# split dataset into train (70%) and test sets (30%)\n",
    "X_train, X_test, Y_train, Y_test = train_test_split(\\\n",
    "                train2['document_text'], Y, test_size=0.30, random_state=0)\n",
    "\n",
    "classifier = Pipeline([\n",
    "    ('tfidf', TfidfVectorizer(stop_words=\"english\",\\\n",
    "                              min_df=5)),\n",
    "    ('clf', OneVsRestClassifier(LinearSVC(C=3.0)))])\n",
    "\n",
    "classifier.fit(X_train, Y_train)"
   ]
  },
  {
   "cell_type": "markdown",
   "metadata": {},
   "source": [
    "Classification using SVM"
   ]
  },
  {
   "cell_type": "code",
   "execution_count": 29,
   "metadata": {
    "execution": {
     "iopub.execute_input": "2022-11-09T01:44:38.791310Z",
     "iopub.status.busy": "2022-11-09T01:44:38.790213Z",
     "iopub.status.idle": "2022-11-09T01:44:39.246617Z",
     "shell.execute_reply": "2022-11-09T01:44:39.245488Z",
     "shell.execute_reply.started": "2022-11-09T01:44:38.791270Z"
    }
   },
   "outputs": [
    {
     "name": "stdout",
     "output_type": "stream",
     "text": [
      "(2958, 50)\n",
      "predicted:\n",
      "[[1 0 0 0 0 0 0 0 0 0 0 0 1 0 0 0 0 0 0 0 0 0 0 0 0 0 0 0 0 0 1 0 0 0 0 0\n",
      "  0 0 0 0 0 0 0 0 0 0 0 0 0 0]\n",
      " [0 0 0 0 0 1 0 0 0 0 0 0 0 0 0 0 0 0 0 1 0 0 0 0 0 0 0 0 0 0 0 0 0 0 0 0\n",
      "  0 0 0 0 0 0 0 0 0 0 0 0 0 0]]\n",
      "actual:\n",
      "[[1 0 0 0 0 0 0 0 0 0 0 0 1 0 0 0 0 0 0 0 0 0 0 0 0 0 0 0 0 0 1 0 0 0 0 0\n",
      "  0 0 0 0 0 0 0 0 0 0 0 0 0 0]\n",
      " [0 0 0 0 0 1 0 0 0 0 0 0 0 0 0 0 0 0 0 1 0 0 0 0 1 0 0 0 0 0 0 0 0 0 0 0\n",
      "  0 0 0 0 0 0 0 0 0 0 0 0 0 0]]\n",
      "                                          precision    recall  f1-score   support\n",
      "\n",
      "                  Accounting and Finance       0.86      0.57      0.69       294\n",
      "                               Antitrust       0.87      0.70      0.78       265\n",
      "                                 Banking       0.93      0.77      0.84       344\n",
      "                           Broker Dealer       0.95      0.71      0.81       220\n",
      "                     Commodities Trading       0.93      0.75      0.83       195\n",
      "                   Compliance Management       0.88      0.74      0.80       420\n",
      "                     Consumer protection       0.87      0.73      0.79       286\n",
      "                     Contract Provisions       0.87      0.71      0.78       326\n",
      "                Corporate Communications       0.76      0.53      0.62       177\n",
      "                    Corporate Governance       0.73      0.52      0.61       297\n",
      "                             Definitions       0.82      0.57      0.68       176\n",
      "                                Delivery       0.97      0.73      0.83       241\n",
      "                            Examinations       0.79      0.70      0.74       518\n",
      "                              Exemptions       0.83      0.62      0.71       359\n",
      "                        Fees and Charges       0.96      0.80      0.87       404\n",
      "                    Financial Accounting       0.89      0.58      0.70       154\n",
      "                         Financial Crime       0.88      0.71      0.79       349\n",
      "                                   Forms       0.90      0.65      0.75       156\n",
      "                                   Fraud       0.97      0.74      0.84       278\n",
      "                                 IT Risk       0.84      0.55      0.66       139\n",
      "                      Information Filing       0.77      0.70      0.73       412\n",
      "                               Insurance       0.88      0.76      0.82       228\n",
      "                                   Legal       0.68      0.51      0.58       275\n",
      "                       Legal Proceedings       0.82      0.71      0.76       414\n",
      "                               Licensing       0.86      0.63      0.73       328\n",
      "             Licensure and certification       0.83      0.64      0.73       307\n",
      "                          Liquidity Risk       0.83      0.68      0.75       154\n",
      "                                 Listing       0.92      0.80      0.86       339\n",
      "                            Market Abuse       0.94      0.79      0.86       220\n",
      "                             Market Risk       0.74      0.69      0.72       465\n",
      "            Monetary and Economic Policy       0.82      0.64      0.72       251\n",
      "                          Money Services       0.77      0.63      0.69       268\n",
      "Money-Laundering and Terrorist Financing       0.98      0.71      0.82       149\n",
      "                       Natural Disasters       0.94      0.80      0.86       310\n",
      "                Payments and Settlements       0.89      0.79      0.84       327\n",
      "                       Powers and Duties       0.70      0.47      0.56       242\n",
      "                               Quotation       0.90      0.72      0.80       190\n",
      "                     Records Maintenance       0.83      0.58      0.68       187\n",
      "                      Regulatory Actions       0.84      0.73      0.78       492\n",
      "                    Regulatory Reporting       0.73      0.56      0.64       303\n",
      "                    Required Disclosures       0.80      0.45      0.58       184\n",
      "                                Research       0.81      0.64      0.71       135\n",
      "                         Risk Management       0.82      0.69      0.75       294\n",
      "                     Securities Clearing       0.96      0.89      0.92       352\n",
      "                      Securities Issuing       0.85      0.71      0.77       345\n",
      "                   Securities Management       0.93      0.73      0.82       209\n",
      "                        Securities Sales       0.81      0.74      0.77       531\n",
      "                   Securities Settlement       0.88      0.79      0.83       252\n",
      "                           Trade Pricing       0.88      0.78      0.83       259\n",
      "                        Trade Settlement       0.89      0.72      0.80       214\n",
      "\n",
      "                               micro avg       0.85      0.69      0.76     14234\n",
      "                               macro avg       0.86      0.68      0.76     14234\n",
      "                            weighted avg       0.85      0.69      0.76     14234\n",
      "                             samples avg       0.78      0.67      0.70     14234\n",
      "\n"
     ]
    },
    {
     "name": "stderr",
     "output_type": "stream",
     "text": [
      "/opt/conda/lib/python3.7/site-packages/sklearn/metrics/_classification.py:1318: UndefinedMetricWarning: Precision and F-score are ill-defined and being set to 0.0 in samples with no predicted labels. Use `zero_division` parameter to control this behavior.\n",
      "  _warn_prf(average, modifier, msg_start, len(result))\n"
     ]
    }
   ],
   "source": [
    "from sklearn.metrics import classification_report\n",
    "\n",
    "predicted = classifier.predict(X_test)\n",
    "\n",
    "print(predicted.shape)\n",
    "print(\"predicted:\")\n",
    "print(predicted[0:2])\n",
    "print(\"actual:\")\n",
    "print(Y_test[0:2])\n",
    "\n",
    "print(classification_report\\\n",
    "      (Y_test, predicted, target_names=mlb.classes_))"
   ]
  },
  {
   "cell_type": "code",
   "execution_count": 30,
   "metadata": {
    "execution": {
     "iopub.execute_input": "2022-11-09T01:44:45.735829Z",
     "iopub.status.busy": "2022-11-09T01:44:45.735492Z",
     "iopub.status.idle": "2022-11-09T01:44:46.981242Z",
     "shell.execute_reply": "2022-11-09T01:44:46.980425Z",
     "shell.execute_reply.started": "2022-11-09T01:44:45.735803Z"
    }
   },
   "outputs": [
    {
     "data": {
      "text/plain": [
       "Pipeline(steps=[('tfidf', TfidfVectorizer(min_df=5, stop_words='english')),\n",
       "                ('clf', OneVsRestClassifier(estimator=MultinomialNB()))])"
      ]
     },
     "execution_count": 30,
     "metadata": {},
     "output_type": "execute_result"
    }
   ],
   "source": [
    "import numpy as np\n",
    "from sklearn.pipeline import Pipeline\n",
    "from sklearn.feature_extraction.text import CountVectorizer\n",
    "from sklearn.svm import LinearSVC\n",
    "from sklearn.feature_extraction.text import TfidfTransformer\n",
    "from sklearn.model_selection import train_test_split\n",
    "from sklearn.multiclass import OneVsRestClassifier\n",
    "from sklearn.metrics import classification_report\n",
    "from sklearn.naive_bayes import MultinomialNB\n",
    "\n",
    "# split dataset into train (70%) and test sets (10%)\n",
    "X_train, X_test, Y_train, Y_test = train_test_split(\\\n",
    "                train2['document_text'], Y, test_size=0.30, random_state=0)\n",
    "\n",
    "classifier = Pipeline([\n",
    "    ('tfidf', TfidfVectorizer(stop_words=\"english\",\\\n",
    "                              min_df=5)),\n",
    "    ('clf', OneVsRestClassifier(MultinomialNB()))])\n",
    "\n",
    "classifier.fit(X_train, Y_train)"
   ]
  },
  {
   "cell_type": "markdown",
   "metadata": {},
   "source": [
    "Classification using MultinomialNB"
   ]
  },
  {
   "cell_type": "code",
   "execution_count": 31,
   "metadata": {
    "execution": {
     "iopub.execute_input": "2022-11-09T01:44:47.954344Z",
     "iopub.status.busy": "2022-11-09T01:44:47.953504Z",
     "iopub.status.idle": "2022-11-09T01:44:48.472433Z",
     "shell.execute_reply": "2022-11-09T01:44:48.471523Z",
     "shell.execute_reply.started": "2022-11-09T01:44:47.954310Z"
    }
   },
   "outputs": [
    {
     "name": "stdout",
     "output_type": "stream",
     "text": [
      "(2958, 50)\n",
      "predicted:\n",
      "[[0 0 0 0 0 0 0 0 0 0 0 0 0 0 0 0 0 0 0 0 0 0 0 0 0 0 0 0 0 0 0 0 0 0 0 0\n",
      "  0 0 0 0 0 0 0 0 0 0 0 0 0 0]\n",
      " [0 0 0 0 0 0 0 0 0 0 0 0 0 0 0 0 0 0 0 0 0 0 0 0 0 0 0 0 0 0 0 0 0 0 0 0\n",
      "  0 0 0 0 0 0 0 0 0 0 0 0 0 0]]\n",
      "actual:\n",
      "[[1 0 0 0 0 0 0 0 0 0 0 0 1 0 0 0 0 0 0 0 0 0 0 0 0 0 0 0 0 0 1 0 0 0 0 0\n",
      "  0 0 0 0 0 0 0 0 0 0 0 0 0 0]\n",
      " [0 0 0 0 0 1 0 0 0 0 0 0 0 0 0 0 0 0 0 1 0 0 0 0 1 0 0 0 0 0 0 0 0 0 0 0\n",
      "  0 0 0 0 0 0 0 0 0 0 0 0 0 0]]\n",
      "                                          precision    recall  f1-score   support\n",
      "\n",
      "                  Accounting and Finance       0.86      0.02      0.04       294\n",
      "                               Antitrust       0.87      0.37      0.52       265\n",
      "                                 Banking       0.91      0.18      0.30       344\n",
      "                           Broker Dealer       0.92      0.05      0.10       220\n",
      "                     Commodities Trading       0.96      0.34      0.51       195\n",
      "                   Compliance Management       0.97      0.21      0.35       420\n",
      "                     Consumer protection       1.00      0.09      0.16       286\n",
      "                     Contract Provisions       0.83      0.44      0.57       326\n",
      "                Corporate Communications       0.91      0.12      0.21       177\n",
      "                    Corporate Governance       1.00      0.02      0.04       297\n",
      "                             Definitions       1.00      0.02      0.04       176\n",
      "                                Delivery       0.94      0.47      0.63       241\n",
      "                            Examinations       0.84      0.32      0.47       518\n",
      "                              Exemptions       0.98      0.11      0.20       359\n",
      "                        Fees and Charges       0.97      0.32      0.49       404\n",
      "                    Financial Accounting       1.00      0.05      0.09       154\n",
      "                         Financial Crime       0.87      0.35      0.50       349\n",
      "                                   Forms       1.00      0.21      0.35       156\n",
      "                                   Fraud       0.87      0.37      0.52       278\n",
      "                                 IT Risk       1.00      0.06      0.11       139\n",
      "                      Information Filing       0.89      0.16      0.27       412\n",
      "                               Insurance       0.83      0.26      0.40       228\n",
      "                                   Legal       0.50      0.01      0.01       275\n",
      "                       Legal Proceedings       0.83      0.46      0.59       414\n",
      "                               Licensing       0.97      0.18      0.31       328\n",
      "             Licensure and certification       0.82      0.19      0.31       307\n",
      "                          Liquidity Risk       0.90      0.06      0.11       154\n",
      "                                 Listing       0.92      0.30      0.46       339\n",
      "                            Market Abuse       1.00      0.27      0.43       220\n",
      "                             Market Risk       0.84      0.29      0.43       465\n",
      "            Monetary and Economic Policy       0.86      0.19      0.31       251\n",
      "                          Money Services       0.89      0.09      0.17       268\n",
      "Money-Laundering and Terrorist Financing       1.00      0.15      0.27       149\n",
      "                       Natural Disasters       0.76      0.35      0.48       310\n",
      "                Payments and Settlements       0.99      0.44      0.61       327\n",
      "                       Powers and Duties       1.00      0.00      0.01       242\n",
      "                               Quotation       1.00      0.18      0.30       190\n",
      "                     Records Maintenance       1.00      0.09      0.17       187\n",
      "                      Regulatory Actions       0.79      0.50      0.61       492\n",
      "                    Regulatory Reporting       0.88      0.07      0.13       303\n",
      "                    Required Disclosures       0.00      0.00      0.00       184\n",
      "                                Research       0.57      0.03      0.06       135\n",
      "                         Risk Management       0.94      0.10      0.18       294\n",
      "                     Securities Clearing       0.99      0.54      0.70       352\n",
      "                      Securities Issuing       0.98      0.19      0.31       345\n",
      "                   Securities Management       1.00      0.51      0.68       209\n",
      "                        Securities Sales       0.86      0.40      0.54       531\n",
      "                   Securities Settlement       0.91      0.35      0.51       252\n",
      "                           Trade Pricing       0.76      0.27      0.40       259\n",
      "                        Trade Settlement       0.92      0.36      0.52       214\n",
      "\n",
      "                               micro avg       0.89      0.25      0.39     14234\n",
      "                               macro avg       0.89      0.22      0.33     14234\n",
      "                            weighted avg       0.89      0.25      0.36     14234\n",
      "                             samples avg       0.40      0.22      0.26     14234\n",
      "\n"
     ]
    },
    {
     "name": "stderr",
     "output_type": "stream",
     "text": [
      "/opt/conda/lib/python3.7/site-packages/sklearn/metrics/_classification.py:1318: UndefinedMetricWarning: Precision and F-score are ill-defined and being set to 0.0 in labels with no predicted samples. Use `zero_division` parameter to control this behavior.\n",
      "  _warn_prf(average, modifier, msg_start, len(result))\n",
      "/opt/conda/lib/python3.7/site-packages/sklearn/metrics/_classification.py:1318: UndefinedMetricWarning: Precision and F-score are ill-defined and being set to 0.0 in samples with no predicted labels. Use `zero_division` parameter to control this behavior.\n",
      "  _warn_prf(average, modifier, msg_start, len(result))\n"
     ]
    }
   ],
   "source": [
    "from sklearn.metrics import classification_report\n",
    "\n",
    "predicted = classifier.predict(X_test)\n",
    "\n",
    "print(predicted.shape)\n",
    "print(\"predicted:\")\n",
    "print(predicted[0:2])\n",
    "print(\"actual:\")\n",
    "print(Y_test[0:2])\n",
    "\n",
    "print(classification_report\\\n",
    "      (Y_test, predicted, target_names=mlb.classes_))"
   ]
  },
  {
   "cell_type": "code",
   "execution_count": null,
   "metadata": {
    "execution": {
     "iopub.execute_input": "2022-11-02T20:08:07.930440Z",
     "iopub.status.busy": "2022-11-02T20:08:07.930024Z"
    }
   },
   "outputs": [
    {
     "name": "stdout",
     "output_type": "stream",
     "text": [
      "C= 0.5\n",
      "\n",
      "tfidf__min_df:\t1\n",
      "\n",
      "tfidf__stop_words:\tenglish\n",
      "\n",
      "best f1 score: 0.710\n",
      "\n",
      "C= 1\n"
     ]
    }
   ],
   "source": [
    "# Exercise 3.3.1 Grid search\n",
    "\n",
    "# import pipeline class\n",
    "from sklearn.pipeline import Pipeline\n",
    "from sklearn.naive_bayes import MultinomialNB\n",
    "# import GridSearch\n",
    "from sklearn.model_selection import GridSearchCV\n",
    "\n",
    "# build a pipeline which does two steps all together:\n",
    "# (1) generate tfidf, and (2) train classifier\n",
    "# each step is named, i.e. \"tfidf\", \"clf\"\n",
    "C=[0.5,1,5,10,50,100,1000]\n",
    "for i in C:\n",
    "    print('C=',i)\n",
    "    text_clf = Pipeline([('tfidf', TfidfVectorizer()),\n",
    "                         ('clf', OneVsRestClassifier(LinearSVC(C=i)))\n",
    "                       ])\n",
    "\n",
    "    # set the range of parameters to be tuned\n",
    "    # each parameter is defined as \n",
    "    # <step name>__<parameter name in step>\n",
    "    # e.g. min_df is a parameter of TfidfVectorizer()\n",
    "    # \"tfidf\" is the name for TfidfVectorizer()\n",
    "    # therefore, 'tfidf__min_df' is the parameter in grid search\n",
    "\n",
    "    parameters = {'tfidf__min_df':[1,2,4,3,5,10,6,7,8,9,15,20],\n",
    "                  'tfidf__stop_words':[None,\"english\"]\n",
    "    #            'clf__C': [0.5,1.0,2.0,3,4,5,6,7,8,9,10],\n",
    "    }\n",
    "\n",
    "    # the metric used to select the best parameters\n",
    "    metric =  \"f1_macro\"\n",
    "\n",
    "    # GridSearch also uses cross validation\n",
    "    gs_clf = GridSearchCV\\\n",
    "    (text_clf, param_grid=parameters, \\\n",
    "     scoring=metric, cv=10)\n",
    "\n",
    "    # due to data volume and large parameter combinations\n",
    "    # it may take long time to search for optimal parameter combination\n",
    "    # you can use a subset of data to test\n",
    "    gs_clf = gs_clf.fit(X_train, Y_train)\n",
    "    for param_name in gs_clf.best_params_:\n",
    "        print(\"{0}:\\t{1}\".format(param_name,\\\n",
    "                                     gs_clf.best_params_[param_name]))\n",
    "\n",
    "    print(\"best f1 score: {:.3f}\".format(gs_clf.best_score_))\n"
   ]
  },
  {
   "cell_type": "code",
   "execution_count": 57,
   "metadata": {
    "execution": {
     "iopub.execute_input": "2022-11-02T19:52:22.174261Z",
     "iopub.status.busy": "2022-11-02T19:52:22.173823Z",
     "iopub.status.idle": "2022-11-02T19:52:22.183620Z",
     "shell.execute_reply": "2022-11-02T19:52:22.182418Z",
     "shell.execute_reply.started": "2022-11-02T19:52:22.174221Z"
    }
   },
   "outputs": [
    {
     "name": "stdout",
     "output_type": "stream",
     "text": [
      "tfidf__min_df:\t20\n",
      "\n",
      "tfidf__stop_words:\tenglish\n",
      "\n",
      "best f1 score: 0.450\n"
     ]
    }
   ],
   "source": [
    "for param_name in gs_clf.best_params_:\n",
    "    print(\"{0}:\\t{1}\".format(param_name,\\\n",
    "                                 gs_clf.best_params_[param_name]))\n",
    "\n",
    "print(\"best f1 score: {:.3f}\".format(gs_clf.best_score_))\n"
   ]
  },
  {
   "cell_type": "code",
   "execution_count": null,
   "metadata": {},
   "outputs": [],
   "source": []
  }
 ],
 "metadata": {
  "kernelspec": {
   "display_name": "Python 3",
   "language": "python",
   "name": "python3"
  },
  "language_info": {
   "codemirror_mode": {
    "name": "ipython",
    "version": 3
   },
   "file_extension": ".py",
   "mimetype": "text/x-python",
   "name": "python",
   "nbconvert_exporter": "python",
   "pygments_lexer": "ipython3",
   "version": "3.8.8"
  }
 },
 "nbformat": 4,
 "nbformat_minor": 4
}
